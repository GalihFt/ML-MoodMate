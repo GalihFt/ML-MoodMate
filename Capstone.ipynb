{
 "cells": [
  {
   "cell_type": "code",
   "execution_count": null,
   "id": "288a1cc4",
   "metadata": {},
   "outputs": [],
   "source": [
    "# !pip install emoji\n",
    "# !pip install python-crfsuite\n",
    "# !pip install Sastrawi"
   ]
  },
  {
   "cell_type": "code",
   "execution_count": 1,
   "id": "fdd1f34c",
   "metadata": {},
   "outputs": [],
   "source": [
    "import pandas as pd\n",
    "import numpy as np\n",
    "import tensorflow as tf\n",
    "import random\n",
    "import matplotlib.pyplot as plt\n",
    "import re\n",
    "import emoji\n",
    "import nltk\n",
    "from nltk.tokenize import word_tokenize\n",
    "from nltk.corpus import stopwords\n",
    "from nltk.tag import CRFTagger\n",
    "import re\n",
    "import Sastrawi\n",
    "from Sastrawi.Stemmer.StemmerFactory import StemmerFactory\n",
    "from tensorflow.keras.preprocessing.text import Tokenizer\n",
    "from tensorflow.keras.preprocessing.sequence import pad_sequences\n",
    "from tensorflow.keras.optimizers import Adam\n",
    "\n",
    "\n",
    "excelstopwords = pd.read_excel('stopwords.xlsx')\n",
    "kamusalay= pd.read_csv(\"new_kamusalay.csv\")"
   ]
  },
  {
   "cell_type": "code",
   "execution_count": 2,
   "id": "2db918c1",
   "metadata": {},
   "outputs": [
    {
     "data": {
      "text/html": [
       "<div>\n",
       "<style scoped>\n",
       "    .dataframe tbody tr th:only-of-type {\n",
       "        vertical-align: middle;\n",
       "    }\n",
       "\n",
       "    .dataframe tbody tr th {\n",
       "        vertical-align: top;\n",
       "    }\n",
       "\n",
       "    .dataframe thead th {\n",
       "        text-align: right;\n",
       "    }\n",
       "</style>\n",
       "<table border=\"1\" class=\"dataframe\">\n",
       "  <thead>\n",
       "    <tr style=\"text-align: right;\">\n",
       "      <th></th>\n",
       "      <th>label</th>\n",
       "      <th>tweet</th>\n",
       "      <th>num_label</th>\n",
       "      <th>filtering</th>\n",
       "      <th>length</th>\n",
       "    </tr>\n",
       "  </thead>\n",
       "  <tbody>\n",
       "    <tr>\n",
       "      <th>0</th>\n",
       "      <td>fear</td>\n",
       "      <td>btw ya beneran ngeri sih olx sekarang ladang p...</td>\n",
       "      <td>1</td>\n",
       "      <td>by the way ya benar ngeri olx ladang tipu baru...</td>\n",
       "      <td>103</td>\n",
       "    </tr>\n",
       "    <tr>\n",
       "      <th>1</th>\n",
       "      <td>sadness</td>\n",
       "      <td>@adrianisonline onga eh. Oktober palang yata b...</td>\n",
       "      <td>3</td>\n",
       "      <td>onga eh oktober palang yata semangat na tayo d...</td>\n",
       "      <td>103</td>\n",
       "    </tr>\n",
       "    <tr>\n",
       "      <th>2</th>\n",
       "      <td>anger</td>\n",
       "      <td>Saya lelah dalam rasa sakit yang luar biasa da...</td>\n",
       "      <td>0</td>\n",
       "      <td>lelah sakit musuh</td>\n",
       "      <td>17</td>\n",
       "    </tr>\n",
       "    <tr>\n",
       "      <th>3</th>\n",
       "      <td>fear</td>\n",
       "      <td>Yang harus kita takutkan adalah ketika kita is...</td>\n",
       "      <td>1</td>\n",
       "      <td>takut istri anak tampak aurat hukum pasang fot...</td>\n",
       "      <td>60</td>\n",
       "    </tr>\n",
       "    <tr>\n",
       "      <th>4</th>\n",
       "      <td>joy</td>\n",
       "      <td>Saya merasa sejuk, tenang dan terkumpul</td>\n",
       "      <td>2</td>\n",
       "      <td>sejuk tenang kumpul</td>\n",
       "      <td>19</td>\n",
       "    </tr>\n",
       "    <tr>\n",
       "      <th>...</th>\n",
       "      <td>...</td>\n",
       "      <td>...</td>\n",
       "      <td>...</td>\n",
       "      <td>...</td>\n",
       "      <td>...</td>\n",
       "    </tr>\n",
       "    <tr>\n",
       "      <th>24647</th>\n",
       "      <td>joy</td>\n",
       "      <td>Saya merasakan keterikatan seperti itu pada Ci...</td>\n",
       "      <td>2</td>\n",
       "      <td>rasa ikat cindy keluarga atticus manis</td>\n",
       "      <td>38</td>\n",
       "    </tr>\n",
       "    <tr>\n",
       "      <th>24648</th>\n",
       "      <td>love</td>\n",
       "      <td>saya benar-benar merasa panas kenyamanan makan...</td>\n",
       "      <td>2</td>\n",
       "      <td>panas nyaman makan minggu</td>\n",
       "      <td>25</td>\n",
       "    </tr>\n",
       "    <tr>\n",
       "      <th>24649</th>\n",
       "      <td>fear</td>\n",
       "      <td>ada ga sih cewe yang tulus ke aku, takut patah...</td>\n",
       "      <td>1</td>\n",
       "      <td>tulus takut patah hati</td>\n",
       "      <td>22</td>\n",
       "    </tr>\n",
       "    <tr>\n",
       "      <th>24650</th>\n",
       "      <td>anger</td>\n",
       "      <td>anjing kaget, typing lo minta di tabok apa gim...</td>\n",
       "      <td>0</td>\n",
       "      <td>anjing kaget etik tabok</td>\n",
       "      <td>23</td>\n",
       "    </tr>\n",
       "    <tr>\n",
       "      <th>24651</th>\n",
       "      <td>anger</td>\n",
       "      <td>Nazi Jerman adalah negara ke-1 yang secara huk...</td>\n",
       "      <td>0</td>\n",
       "      <td>nazi jerman negara hukum lindung hak hak hewan...</td>\n",
       "      <td>90</td>\n",
       "    </tr>\n",
       "  </tbody>\n",
       "</table>\n",
       "<p>24652 rows × 5 columns</p>\n",
       "</div>"
      ],
      "text/plain": [
       "         label                                              tweet  num_label  \\\n",
       "0         fear  btw ya beneran ngeri sih olx sekarang ladang p...          1   \n",
       "1      sadness  @adrianisonline onga eh. Oktober palang yata b...          3   \n",
       "2        anger  Saya lelah dalam rasa sakit yang luar biasa da...          0   \n",
       "3         fear  Yang harus kita takutkan adalah ketika kita is...          1   \n",
       "4          joy            Saya merasa sejuk, tenang dan terkumpul          2   \n",
       "...        ...                                                ...        ...   \n",
       "24647      joy  Saya merasakan keterikatan seperti itu pada Ci...          2   \n",
       "24648     love  saya benar-benar merasa panas kenyamanan makan...          2   \n",
       "24649     fear  ada ga sih cewe yang tulus ke aku, takut patah...          1   \n",
       "24650    anger  anjing kaget, typing lo minta di tabok apa gim...          0   \n",
       "24651    anger  Nazi Jerman adalah negara ke-1 yang secara huk...          0   \n",
       "\n",
       "                                               filtering  length  \n",
       "0      by the way ya benar ngeri olx ladang tipu baru...     103  \n",
       "1      onga eh oktober palang yata semangat na tayo d...     103  \n",
       "2                                      lelah sakit musuh      17  \n",
       "3      takut istri anak tampak aurat hukum pasang fot...      60  \n",
       "4                                    sejuk tenang kumpul      19  \n",
       "...                                                  ...     ...  \n",
       "24647             rasa ikat cindy keluarga atticus manis      38  \n",
       "24648                          panas nyaman makan minggu      25  \n",
       "24649                             tulus takut patah hati      22  \n",
       "24650                            anjing kaget etik tabok      23  \n",
       "24651  nazi jerman negara hukum lindung hak hak hewan...      90  \n",
       "\n",
       "[24652 rows x 5 columns]"
      ]
     },
     "execution_count": 2,
     "metadata": {},
     "output_type": "execute_result"
    }
   ],
   "source": [
    "train = pd.read_csv('databagus.csv')\n",
    "train"
   ]
  },
  {
   "cell_type": "code",
   "execution_count": 3,
   "id": "5433498b",
   "metadata": {},
   "outputs": [
    {
     "data": {
      "text/html": [
       "<div>\n",
       "<style scoped>\n",
       "    .dataframe tbody tr th:only-of-type {\n",
       "        vertical-align: middle;\n",
       "    }\n",
       "\n",
       "    .dataframe tbody tr th {\n",
       "        vertical-align: top;\n",
       "    }\n",
       "\n",
       "    .dataframe thead th {\n",
       "        text-align: right;\n",
       "    }\n",
       "</style>\n",
       "<table border=\"1\" class=\"dataframe\">\n",
       "  <thead>\n",
       "    <tr style=\"text-align: right;\">\n",
       "      <th></th>\n",
       "      <th>label</th>\n",
       "      <th>tweet</th>\n",
       "      <th>num_label</th>\n",
       "      <th>filtering</th>\n",
       "      <th>length</th>\n",
       "    </tr>\n",
       "  </thead>\n",
       "  <tbody>\n",
       "    <tr>\n",
       "      <th>0</th>\n",
       "      <td>fear</td>\n",
       "      <td>btw ya beneran ngeri sih olx sekarang ladang p...</td>\n",
       "      <td>1</td>\n",
       "      <td>by the way ya benar ngeri olx ladang tipu baru...</td>\n",
       "      <td>103</td>\n",
       "    </tr>\n",
       "    <tr>\n",
       "      <th>1</th>\n",
       "      <td>sadness</td>\n",
       "      <td>@adrianisonline onga eh. Oktober palang yata b...</td>\n",
       "      <td>3</td>\n",
       "      <td>onga eh oktober palang yata semangat na tayo d...</td>\n",
       "      <td>103</td>\n",
       "    </tr>\n",
       "    <tr>\n",
       "      <th>2</th>\n",
       "      <td>anger</td>\n",
       "      <td>Saya lelah dalam rasa sakit yang luar biasa da...</td>\n",
       "      <td>0</td>\n",
       "      <td>lelah sakit musuh</td>\n",
       "      <td>17</td>\n",
       "    </tr>\n",
       "    <tr>\n",
       "      <th>3</th>\n",
       "      <td>fear</td>\n",
       "      <td>Yang harus kita takutkan adalah ketika kita is...</td>\n",
       "      <td>1</td>\n",
       "      <td>takut istri anak tampak aurat hukum pasang fot...</td>\n",
       "      <td>60</td>\n",
       "    </tr>\n",
       "    <tr>\n",
       "      <th>4</th>\n",
       "      <td>joy</td>\n",
       "      <td>Saya merasa sejuk, tenang dan terkumpul</td>\n",
       "      <td>2</td>\n",
       "      <td>sejuk tenang kumpul</td>\n",
       "      <td>19</td>\n",
       "    </tr>\n",
       "  </tbody>\n",
       "</table>\n",
       "</div>"
      ],
      "text/plain": [
       "     label                                              tweet  num_label  \\\n",
       "0     fear  btw ya beneran ngeri sih olx sekarang ladang p...          1   \n",
       "1  sadness  @adrianisonline onga eh. Oktober palang yata b...          3   \n",
       "2    anger  Saya lelah dalam rasa sakit yang luar biasa da...          0   \n",
       "3     fear  Yang harus kita takutkan adalah ketika kita is...          1   \n",
       "4      joy            Saya merasa sejuk, tenang dan terkumpul          2   \n",
       "\n",
       "                                           filtering  length  \n",
       "0  by the way ya benar ngeri olx ladang tipu baru...     103  \n",
       "1  onga eh oktober palang yata semangat na tayo d...     103  \n",
       "2                                  lelah sakit musuh      17  \n",
       "3  takut istri anak tampak aurat hukum pasang fot...      60  \n",
       "4                                sejuk tenang kumpul      19  "
      ]
     },
     "execution_count": 3,
     "metadata": {},
     "output_type": "execute_result"
    }
   ],
   "source": [
    "train['num_label'] = train['label'].map({'anger':0, 'fear':1, 'joy':2, 'love':2, 'sadness':3})\n",
    "train.head()"
   ]
  },
  {
   "cell_type": "code",
   "execution_count": 4,
   "id": "2bce6b5a",
   "metadata": {},
   "outputs": [
    {
     "data": {
      "text/html": [
       "<div>\n",
       "<style scoped>\n",
       "    .dataframe tbody tr th:only-of-type {\n",
       "        vertical-align: middle;\n",
       "    }\n",
       "\n",
       "    .dataframe tbody tr th {\n",
       "        vertical-align: top;\n",
       "    }\n",
       "\n",
       "    .dataframe thead th {\n",
       "        text-align: right;\n",
       "    }\n",
       "</style>\n",
       "<table border=\"1\" class=\"dataframe\">\n",
       "  <thead>\n",
       "    <tr style=\"text-align: right;\">\n",
       "      <th></th>\n",
       "      <th>label</th>\n",
       "      <th>tweet</th>\n",
       "      <th>filtering</th>\n",
       "      <th>length</th>\n",
       "    </tr>\n",
       "    <tr>\n",
       "      <th>num_label</th>\n",
       "      <th></th>\n",
       "      <th></th>\n",
       "      <th></th>\n",
       "      <th></th>\n",
       "    </tr>\n",
       "  </thead>\n",
       "  <tbody>\n",
       "    <tr>\n",
       "      <th>0</th>\n",
       "      <td>5741</td>\n",
       "      <td>5741</td>\n",
       "      <td>5741</td>\n",
       "      <td>5741</td>\n",
       "    </tr>\n",
       "    <tr>\n",
       "      <th>1</th>\n",
       "      <td>5633</td>\n",
       "      <td>5633</td>\n",
       "      <td>5633</td>\n",
       "      <td>5633</td>\n",
       "    </tr>\n",
       "    <tr>\n",
       "      <th>2</th>\n",
       "      <td>7505</td>\n",
       "      <td>7505</td>\n",
       "      <td>7505</td>\n",
       "      <td>7505</td>\n",
       "    </tr>\n",
       "    <tr>\n",
       "      <th>3</th>\n",
       "      <td>5773</td>\n",
       "      <td>5773</td>\n",
       "      <td>5773</td>\n",
       "      <td>5773</td>\n",
       "    </tr>\n",
       "  </tbody>\n",
       "</table>\n",
       "</div>"
      ],
      "text/plain": [
       "           label  tweet  filtering  length\n",
       "num_label                                 \n",
       "0           5741   5741       5741    5741\n",
       "1           5633   5633       5633    5633\n",
       "2           7505   7505       7505    7505\n",
       "3           5773   5773       5773    5773"
      ]
     },
     "execution_count": 4,
     "metadata": {},
     "output_type": "execute_result"
    }
   ],
   "source": [
    "train.groupby(by=\"num_label\").count()"
   ]
  },
  {
   "cell_type": "code",
   "execution_count": 5,
   "id": "c7167cdd",
   "metadata": {},
   "outputs": [],
   "source": [
    "def lowercase(review):\n",
    "    return review.lower() #dari python langsung, bkn dari external library\n",
    "\n",
    "# hapus URL\n",
    "def remove_url(review):\n",
    "    return re.sub(r'http\\S+', '', review)\n",
    "\n",
    "def remove_hashtags(review):\n",
    "    # Pola regex untuk mendeteksi hashtag\n",
    "    pattern = r'#\\w+'\n",
    "    return re.sub(pattern, '', review)\n",
    "\n",
    "def remove_mentions(review):\n",
    "    return re.sub(r'@\\w+', '', review)\n",
    "\n",
    "#KAMUS ALAY\n",
    "def alay(review):\n",
    "    alay_dic = kamusalay.to_dict()\n",
    "    alay_dic = dict(zip(kamusalay.iloc[:,0], kamusalay.iloc[:,1]))\n",
    "    words = review.split()\n",
    "    for i in range(len(words)):\n",
    "        word = words[i]\n",
    "        if word in alay_dic.keys():\n",
    "            words[i] = alay_dic[word]\n",
    "    sentence = \" \".join(words)\n",
    "    return sentence\n",
    "\n",
    "def remove_square_brackets(review):\n",
    "    # Menghapus teks di dalam kurung siku beserta kurungnya\n",
    "    return re.sub(r'\\[.*?\\]', '', review)\n",
    "\n",
    "# hapus irrelevant char(angka, simbol, tanda baca)\n",
    "def remove_irrelevant(review):\n",
    "    return re.sub('[^a-zA-Z\\s]', ' ', review)\n",
    "\n",
    "# hapus spasi lebih dari 1\n",
    "def remove_space(review):\n",
    "    review= re.sub(r'\\s+', ' ', review)\n",
    "    review= review.replace('\\n', ' ')\n",
    "    review= review.replace('\\\\n', ' ')\n",
    "    review= review.replace('\\t', ' ')\n",
    "    review= review.replace('\\\\t', ' ')\n",
    "    review= review.replace('\\\\u', ' ')\n",
    "    review= review.replace('\\\\', ' ')\n",
    "    return review\n",
    "\n",
    "# hapus emoji\n",
    "def remove_emoji(review):\n",
    "    emoji_pattern= re.compile(\"[\"\n",
    "                           u\"\\U0001F600-\\U0001F64F\"  # emoticon\n",
    "                           u\"\\U0001F300-\\U0001F5FF\"  # simbol & dingbat\n",
    "                           u\"\\U0001F680-\\U0001F6FF\"  # transportasi & simbol map\n",
    "                           u\"\\U0001F700-\\U0001F77F\"  # simbol kuno\n",
    "                           u\"\\U0001F780-\\U0001F7FF\"  # simbol kuno tambahan\n",
    "                           u\"\\U0001F800-\\U0001F8FF\"  # simbol tanda batas\n",
    "                           u\"\\U0001F900-\\U0001F9FF\"  # emoticon tambahan\n",
    "                           u\"\\U0001FA00-\\U0001FA6F\"  # simbol musik\n",
    "                           u\"\\U0001FA70-\\U0001FAFF\"  # simbol musik tambahan\n",
    "                           u\"\\U00002702-\\U000027B0\"  # simbol karakter\n",
    "                           u\"\\U000024C2-\\U0001F251\"  # simbol katakter tambahan\n",
    "                           \"]+\", flags= re.UNICODE)\n",
    "    return emoji_pattern.sub(r'', review)\n",
    "\n",
    "\n",
    "#REMOVING REPEAT CHARACTER\n",
    "def repeat_char(review):\n",
    "    review= re.sub('([A-Za-z])\\\\1{2,}','\\\\1', review)\n",
    "    return review\n",
    "\n",
    "\n",
    "#Remove Stopword Indo\n",
    "def remove_stopwords(sentence):\n",
    "    stopwords_list = list(excelstopwords['stopwords'])\n",
    "    words = sentence.split()\n",
    "    no_words = [w for w in words if w not in stopwords_list]\n",
    "    sentence = \" \".join(no_words)\n",
    "    return sentence\n",
    "\n",
    "\n",
    "# Create stemmer\n",
    "stemmer_factory = StemmerFactory()\n",
    "stemmer = stemmer_factory.create_stemmer()\n",
    "# Stemming function\n",
    "def stemmed(review):\n",
    "    return stemmer.stem(review)\n",
    "\n"
   ]
  },
  {
   "cell_type": "code",
   "execution_count": 6,
   "id": "6eee6e73",
   "metadata": {},
   "outputs": [],
   "source": [
    "def df_prep(train):\n",
    "    train['filtering']= train['tweet'].apply(lowercase)\n",
    "    train['filtering']= train['filtering'].apply(remove_hashtags)\n",
    "    train['filtering']= train['filtering'].apply(remove_url)\n",
    "    train['filtering']= train['filtering'].apply(remove_mentions)\n",
    "    train['filtering']= train['filtering'].apply(remove_square_brackets)\n",
    "    train['filtering']= train['filtering'].apply(remove_irrelevant)\n",
    "    train['filtering']= train['filtering'].apply(remove_space)\n",
    "    train['filtering']= train['filtering'].apply(remove_emoji)\n",
    "    train['filtering']= train['filtering'].apply(repeat_char)\n",
    "    train['filtering']= train['filtering'].apply(alay)\n",
    "    train[\"filtering\"]= train[\"filtering\"].apply(remove_stopwords)\n",
    "    train['filtering']= train['filtering'].apply(stemmed)\n",
    "    return train"
   ]
  },
  {
   "cell_type": "code",
   "execution_count": null,
   "id": "9f299846",
   "metadata": {},
   "outputs": [],
   "source": [
    "train = df_prep(train)\n",
    "train = train.sample(frac=1).reset_index(drop=True)\n",
    "train"
   ]
  },
  {
   "cell_type": "code",
   "execution_count": 7,
   "id": "86f57adc",
   "metadata": {},
   "outputs": [],
   "source": [
    "train_split = 0.9\n",
    "train_size = int(len(train['filtering'])*train_split)\n",
    "traindata = train[0:train_size]\n",
    "valdata = train[train_size:]"
   ]
  },
  {
   "cell_type": "code",
   "execution_count": 19,
   "id": "bc5948da",
   "metadata": {},
   "outputs": [],
   "source": [
    "# Parameters for padding and OOV tokens\n",
    "trunc_type='post'\n",
    "padding_type='post'\n",
    "oov_tok = \"<OOV>\"\n",
    "max_length = 250\n",
    "#train['length'].max()\n",
    "vocab_size = 16500 #coba dikecilkan biar ga overfit len(unique())\n",
    "embedding_dim = 48\n",
    "\n",
    "# Initialize the Tokenizer class\n",
    "tokenizer = Tokenizer(num_words=vocab_size, oov_token='<OOV>')\n",
    "\n",
    "# Generate the word index dictionary\n",
    "tokenizer.fit_on_texts(traindata['filtering'])\n",
    "word_index = tokenizer.word_index\n",
    "\n",
    "# Generate and pad the training sequences\n",
    "training_sequences = tokenizer.texts_to_sequences(traindata['filtering'])\n",
    "training_padded = pad_sequences(training_sequences, maxlen=max_length, padding=padding_type, truncating=trunc_type)\n",
    "\n",
    "# Generate and pad the validation sequences\n",
    "validation_sequences = tokenizer.texts_to_sequences(valdata['filtering'])\n",
    "validation_padded = pad_sequences(validation_sequences, maxlen=max_length, padding=padding_type, truncating=trunc_type)"
   ]
  },
  {
   "cell_type": "code",
   "execution_count": 20,
   "id": "4f08a78a",
   "metadata": {},
   "outputs": [
    {
     "name": "stdout",
     "output_type": "stream",
     "text": [
      "16512\n"
     ]
    }
   ],
   "source": [
    "print(len(word_index))"
   ]
  },
  {
   "cell_type": "code",
   "execution_count": 21,
   "id": "2096107d",
   "metadata": {},
   "outputs": [],
   "source": [
    "model = tf.keras.Sequential([\n",
    "        tf.keras.layers.Embedding(vocab_size, embedding_dim, input_length=max_length),\n",
    "        tf.keras.layers.Dropout(0.2),\n",
    "        tf.keras.layers.GlobalMaxPooling1D(),\n",
    "        tf.keras.layers.Dense(16, activation = 'relu'),\n",
    "        tf.keras.layers.Dropout(0.2),\n",
    "        tf.keras.layers.Dense(4, activation='softmax')\n",
    "])\n",
    "\n",
    "learning_rate = 0.0001\n",
    "model.compile(loss=tf.keras.losses.SparseCategoricalCrossentropy(from_logits=False),\n",
    "              optimizer=tf.keras.optimizers.Adam(learning_rate=learning_rate), metrics=['accuracy'])\n"
   ]
  },
  {
   "cell_type": "code",
   "execution_count": 22,
   "id": "d9ba1bea",
   "metadata": {},
   "outputs": [
    {
     "name": "stdout",
     "output_type": "stream",
     "text": [
      "Epoch 1/60\n",
      "174/174 - 13s - loss: 1.3797 - accuracy: 0.3028 - val_loss: 1.3754 - val_accuracy: 0.3220\n",
      "Epoch 2/60\n",
      "174/174 - 13s - loss: 1.3662 - accuracy: 0.3372 - val_loss: 1.3594 - val_accuracy: 0.3544\n",
      "Epoch 3/60\n",
      "174/174 - 13s - loss: 1.3449 - accuracy: 0.3728 - val_loss: 1.3370 - val_accuracy: 0.3921\n",
      "Epoch 4/60\n",
      "174/174 - 13s - loss: 1.3147 - accuracy: 0.4131 - val_loss: 1.3051 - val_accuracy: 0.4197\n",
      "Epoch 5/60\n",
      "174/174 - 13s - loss: 1.2744 - accuracy: 0.4580 - val_loss: 1.2638 - val_accuracy: 0.4562\n",
      "Epoch 6/60\n",
      "174/174 - 13s - loss: 1.2263 - accuracy: 0.4911 - val_loss: 1.2167 - val_accuracy: 0.5109\n",
      "Epoch 7/60\n",
      "174/174 - 13s - loss: 1.1750 - accuracy: 0.5324 - val_loss: 1.1675 - val_accuracy: 0.5499\n",
      "Epoch 8/60\n",
      "174/174 - 13s - loss: 1.1201 - accuracy: 0.5720 - val_loss: 1.1201 - val_accuracy: 0.5888\n",
      "Epoch 9/60\n",
      "174/174 - 13s - loss: 1.0711 - accuracy: 0.6025 - val_loss: 1.0759 - val_accuracy: 0.6176\n",
      "Epoch 10/60\n",
      "174/174 - 12s - loss: 1.0242 - accuracy: 0.6411 - val_loss: 1.0344 - val_accuracy: 0.6423\n",
      "Epoch 11/60\n",
      "174/174 - 13s - loss: 0.9795 - accuracy: 0.6690 - val_loss: 0.9963 - val_accuracy: 0.6663\n",
      "Epoch 12/60\n",
      "174/174 - 12s - loss: 0.9378 - accuracy: 0.6911 - val_loss: 0.9611 - val_accuracy: 0.6861\n",
      "Epoch 13/60\n",
      "174/174 - 13s - loss: 0.9037 - accuracy: 0.7096 - val_loss: 0.9294 - val_accuracy: 0.7007\n",
      "Epoch 14/60\n",
      "174/174 - 13s - loss: 0.8698 - accuracy: 0.7237 - val_loss: 0.9002 - val_accuracy: 0.7125\n",
      "Epoch 15/60\n",
      "174/174 - 13s - loss: 0.8381 - accuracy: 0.7395 - val_loss: 0.8738 - val_accuracy: 0.7194\n",
      "Epoch 16/60\n",
      "174/174 - 13s - loss: 0.8137 - accuracy: 0.7465 - val_loss: 0.8502 - val_accuracy: 0.7287\n",
      "Epoch 17/60\n",
      "174/174 - 13s - loss: 0.7839 - accuracy: 0.7574 - val_loss: 0.8286 - val_accuracy: 0.7340\n",
      "Epoch 18/60\n",
      "174/174 - 13s - loss: 0.7610 - accuracy: 0.7678 - val_loss: 0.8087 - val_accuracy: 0.7364\n",
      "Epoch 19/60\n",
      "174/174 - 13s - loss: 0.7401 - accuracy: 0.7726 - val_loss: 0.7910 - val_accuracy: 0.7405\n",
      "Epoch 20/60\n",
      "174/174 - 13s - loss: 0.7183 - accuracy: 0.7738 - val_loss: 0.7749 - val_accuracy: 0.7470\n",
      "Epoch 21/60\n",
      "174/174 - 12s - loss: 0.6988 - accuracy: 0.7831 - val_loss: 0.7600 - val_accuracy: 0.7498\n",
      "Epoch 22/60\n",
      "174/174 - 13s - loss: 0.6787 - accuracy: 0.7891 - val_loss: 0.7464 - val_accuracy: 0.7551\n",
      "Epoch 23/60\n",
      "174/174 - 13s - loss: 0.6657 - accuracy: 0.7912 - val_loss: 0.7341 - val_accuracy: 0.7551\n",
      "Epoch 24/60\n",
      "174/174 - 13s - loss: 0.6459 - accuracy: 0.7976 - val_loss: 0.7223 - val_accuracy: 0.7583\n",
      "Epoch 25/60\n",
      "174/174 - 12s - loss: 0.6357 - accuracy: 0.8028 - val_loss: 0.7118 - val_accuracy: 0.7591\n",
      "Epoch 26/60\n",
      "174/174 - 12s - loss: 0.6205 - accuracy: 0.8021 - val_loss: 0.7021 - val_accuracy: 0.7616\n",
      "Epoch 27/60\n",
      "174/174 - 13s - loss: 0.6048 - accuracy: 0.8082 - val_loss: 0.6926 - val_accuracy: 0.7644\n",
      "Epoch 28/60\n",
      "174/174 - 13s - loss: 0.5915 - accuracy: 0.8133 - val_loss: 0.6844 - val_accuracy: 0.7656\n",
      "Epoch 29/60\n",
      "174/174 - 13s - loss: 0.5808 - accuracy: 0.8150 - val_loss: 0.6769 - val_accuracy: 0.7664\n",
      "Epoch 30/60\n",
      "174/174 - 13s - loss: 0.5649 - accuracy: 0.8198 - val_loss: 0.6697 - val_accuracy: 0.7685\n",
      "Epoch 31/60\n",
      "174/174 - 13s - loss: 0.5589 - accuracy: 0.8230 - val_loss: 0.6631 - val_accuracy: 0.7672\n",
      "Epoch 32/60\n",
      "174/174 - 13s - loss: 0.5454 - accuracy: 0.8234 - val_loss: 0.6570 - val_accuracy: 0.7689\n",
      "Epoch 33/60\n",
      "174/174 - 13s - loss: 0.5289 - accuracy: 0.8340 - val_loss: 0.6518 - val_accuracy: 0.7693\n",
      "Epoch 34/60\n",
      "174/174 - 13s - loss: 0.5252 - accuracy: 0.8349 - val_loss: 0.6468 - val_accuracy: 0.7680\n",
      "Epoch 35/60\n",
      "174/174 - 13s - loss: 0.5153 - accuracy: 0.8353 - val_loss: 0.6421 - val_accuracy: 0.7709\n",
      "Epoch 36/60\n",
      "174/174 - 13s - loss: 0.5069 - accuracy: 0.8379 - val_loss: 0.6378 - val_accuracy: 0.7717\n",
      "Epoch 37/60\n",
      "174/174 - 13s - loss: 0.4986 - accuracy: 0.8429 - val_loss: 0.6334 - val_accuracy: 0.7733\n",
      "Epoch 38/60\n",
      "174/174 - 13s - loss: 0.4916 - accuracy: 0.8427 - val_loss: 0.6299 - val_accuracy: 0.7766\n",
      "Epoch 39/60\n",
      "174/174 - 12s - loss: 0.4805 - accuracy: 0.8473 - val_loss: 0.6264 - val_accuracy: 0.7758\n",
      "Epoch 40/60\n",
      "174/174 - 13s - loss: 0.4698 - accuracy: 0.8481 - val_loss: 0.6238 - val_accuracy: 0.7766\n",
      "Epoch 41/60\n",
      "174/174 - 13s - loss: 0.4679 - accuracy: 0.8496 - val_loss: 0.6210 - val_accuracy: 0.7778\n",
      "Epoch 42/60\n",
      "174/174 - 13s - loss: 0.4596 - accuracy: 0.8536 - val_loss: 0.6187 - val_accuracy: 0.7794\n",
      "Epoch 43/60\n",
      "174/174 - 13s - loss: 0.4480 - accuracy: 0.8576 - val_loss: 0.6169 - val_accuracy: 0.7798\n",
      "Epoch 44/60\n",
      "174/174 - 12s - loss: 0.4459 - accuracy: 0.8575 - val_loss: 0.6147 - val_accuracy: 0.7814\n",
      "Epoch 45/60\n",
      "174/174 - 13s - loss: 0.4378 - accuracy: 0.8611 - val_loss: 0.6129 - val_accuracy: 0.7822\n",
      "Epoch 46/60\n",
      "174/174 - 13s - loss: 0.4294 - accuracy: 0.8640 - val_loss: 0.6114 - val_accuracy: 0.7818\n",
      "Epoch 47/60\n",
      "174/174 - 13s - loss: 0.4277 - accuracy: 0.8653 - val_loss: 0.6098 - val_accuracy: 0.7798\n",
      "Epoch 48/60\n",
      "174/174 - 13s - loss: 0.4184 - accuracy: 0.8668 - val_loss: 0.6085 - val_accuracy: 0.7802\n",
      "Epoch 49/60\n",
      "174/174 - 12s - loss: 0.4094 - accuracy: 0.8711 - val_loss: 0.6075 - val_accuracy: 0.7794\n",
      "Epoch 50/60\n",
      "174/174 - 13s - loss: 0.4052 - accuracy: 0.8725 - val_loss: 0.6066 - val_accuracy: 0.7802\n",
      "Epoch 51/60\n",
      "174/174 - 12s - loss: 0.4002 - accuracy: 0.8752 - val_loss: 0.6056 - val_accuracy: 0.7802\n",
      "Epoch 52/60\n",
      "174/174 - 13s - loss: 0.3958 - accuracy: 0.8738 - val_loss: 0.6048 - val_accuracy: 0.7798\n",
      "Epoch 53/60\n",
      "174/174 - 13s - loss: 0.3908 - accuracy: 0.8758 - val_loss: 0.6047 - val_accuracy: 0.7794\n",
      "Epoch 54/60\n",
      "174/174 - 13s - loss: 0.3795 - accuracy: 0.8806 - val_loss: 0.6040 - val_accuracy: 0.7786\n",
      "Epoch 55/60\n",
      "174/174 - 13s - loss: 0.3784 - accuracy: 0.8812 - val_loss: 0.6038 - val_accuracy: 0.7798\n",
      "Epoch 56/60\n",
      "174/174 - 12s - loss: 0.3820 - accuracy: 0.8797 - val_loss: 0.6037 - val_accuracy: 0.7786\n",
      "Epoch 57/60\n",
      "174/174 - 13s - loss: 0.3743 - accuracy: 0.8804 - val_loss: 0.6037 - val_accuracy: 0.7790\n",
      "Epoch 58/60\n",
      "174/174 - 13s - loss: 0.3700 - accuracy: 0.8817 - val_loss: 0.6033 - val_accuracy: 0.7790\n",
      "Epoch 59/60\n",
      "174/174 - 12s - loss: 0.3679 - accuracy: 0.8822 - val_loss: 0.6036 - val_accuracy: 0.7798\n",
      "Epoch 60/60\n",
      "174/174 - 13s - loss: 0.3580 - accuracy: 0.8857 - val_loss: 0.6041 - val_accuracy: 0.7806\n"
     ]
    }
   ],
   "source": [
    "num_epochs = 60\n",
    "BATCH_SIZE = 128\n",
    "history = model.fit(training_padded, traindata['num_label'], batch_size = BATCH_SIZE, epochs=num_epochs,\n",
    "                    validation_data=(validation_padded, valdata['num_label']), verbose=2)"
   ]
  },
  {
   "cell_type": "code",
   "execution_count": 23,
   "id": "dfe7d167",
   "metadata": {},
   "outputs": [
    {
     "data": {
      "image/png": "[encoded data removed]",
      "text/plain": [
       "<Figure size 640x480 with 1 Axes>"
      ]
     },
     "metadata": {},
     "output_type": "display_data"
    },
    {
     "data": {
      "image/png": "[encoded data removed]",
      "text/plain": [
       "<Figure size 640x480 with 1 Axes>"
      ]
     },
     "metadata": {},
     "output_type": "display_data"
    }
   ],
   "source": [
    "# Plot utility\n",
    "def plot_graphs(history, string):\n",
    "  plt.plot(history.history[string])\n",
    "  plt.plot(history.history['val_'+string])\n",
    "  plt.xlabel(\"Epochs\")\n",
    "  plt.ylabel(string)\n",
    "  plt.legend([string, 'val_'+string])\n",
    "  plt.show()\n",
    "\n",
    "# Plot the accuracy and loss\n",
    "plot_graphs(history, \"accuracy\")\n",
    "plot_graphs(history, \"loss\")"
   ]
  },
  {
   "cell_type": "code",
   "execution_count": null,
   "id": "165ca66a",
   "metadata": {},
   "outputs": [],
   "source": []
  },
  {
   "cell_type": "code",
   "execution_count": null,
   "id": "f24e0596",
   "metadata": {},
   "outputs": [],
   "source": []
  },
  {
   "cell_type": "code",
   "execution_count": 24,
   "id": "a2c26a6f",
   "metadata": {},
   "outputs": [],
   "source": [
    "validation_sequences = tokenizer.texts_to_sequences(valdata['filtering'])\n",
    "validation_padded = pad_sequences(validation_sequences, maxlen=max_length, padding=padding_type, truncating=trunc_type)"
   ]
  },
  {
   "cell_type": "code",
   "execution_count": 25,
   "id": "208ff40e",
   "metadata": {},
   "outputs": [
    {
     "data": {
      "text/plain": [
       "array([0, 3, 3, ..., 1, 1, 0], dtype=int64)"
      ]
     },
     "execution_count": 25,
     "metadata": {},
     "output_type": "execute_result"
    }
   ],
   "source": [
    "result = model.predict(validation_padded)\n",
    "# Get the index of the maximum probability for each row\n",
    "predicted_labels = np.argmax(result, axis=1)\n",
    "predicted_labels"
   ]
  },
  {
   "cell_type": "code",
   "execution_count": 26,
   "id": "4987815d",
   "metadata": {},
   "outputs": [
    {
     "data": {
      "image/png": "[encoded data removed]",
      "text/plain": [
       "<Figure size 640x480 with 2 Axes>"
      ]
     },
     "metadata": {},
     "output_type": "display_data"
    }
   ],
   "source": [
    "from sklearn.metrics import confusion_matrix\n",
    "import seaborn as sns\n",
    "\n",
    "# Replace y_true and y_pred with your actual data\n",
    "y_true = np.array(valdata['num_label']) # True labels\n",
    "y_pred = predicted_labels  # Predicted labels\n",
    "\n",
    "# Create the confusion matrix\n",
    "label = [\"anger\", \"fear\", \"joy\", \"sadness\"]\n",
    "conf_matrix = confusion_matrix(y_true, y_pred)\n",
    "sns.heatmap(conf_matrix, cmap=\"Blues\", annot = True, fmt='d', xticklabels=label, yticklabels=label)\n",
    "plt.xlabel('Predicted labels')\n",
    "plt.ylabel('True labels')\n",
    "plt.title('Confusion Matrix')\n",
    "plt.show()\n"
   ]
  },
  {
   "cell_type": "code",
   "execution_count": 27,
   "id": "c050297d",
   "metadata": {},
   "outputs": [
    {
     "name": "stdout",
     "output_type": "stream",
     "text": [
      "Accuracy: 0.7806163828061639\n",
      "Precision (Macro): 0.7783030923785264\n",
      "Precision (Micro): 0.7806163828061639\n",
      "Precision (Weighted): 0.7807464736234869\n",
      "Recall (Macro): 0.7749908639940895\n",
      "Recall (Micro): 0.7806163828061639\n",
      "Recall (Weighted): 0.7806163828061639\n",
      "F1 Score (Macro): 0.7762330895415703\n",
      "F1 Score (Micro): 0.7806163828061639\n",
      "F1 Score (Weighted): 0.7802669941654814\n"
     ]
    }
   ],
   "source": [
    "from sklearn.metrics import accuracy_score, precision_score, recall_score, f1_score\n",
    "\n",
    "# Calculate accuracy\n",
    "accuracy = accuracy_score(y_true, y_pred)\n",
    "\n",
    "# Calculate precision (macro, micro, and weighted)\n",
    "precision_macro = precision_score(y_true, y_pred, average='macro')\n",
    "precision_micro = precision_score(y_true, y_pred, average='micro')\n",
    "precision_weighted = precision_score(y_true, y_pred, average='weighted')\n",
    "\n",
    "# Calculate recall (macro, micro, and weighted)\n",
    "recall_macro = recall_score(y_true, y_pred, average='macro')\n",
    "recall_micro = recall_score(y_true, y_pred, average='micro')\n",
    "recall_weighted = recall_score(y_true, y_pred, average='weighted')\n",
    "\n",
    "# Calculate F1 score (macro, micro, and weighted)\n",
    "f1_macro = f1_score(y_true, y_pred, average='macro')\n",
    "f1_micro = f1_score(y_true, y_pred, average='micro')\n",
    "f1_weighted = f1_score(y_true, y_pred, average='weighted')\n",
    "\n",
    "# Print all the metrics\n",
    "print(\"Accuracy:\", accuracy)\n",
    "print(\"Precision (Macro):\", precision_macro)\n",
    "print(\"Precision (Micro):\", precision_micro)\n",
    "print(\"Precision (Weighted):\", precision_weighted)\n",
    "print(\"Recall (Macro):\", recall_macro)\n",
    "print(\"Recall (Micro):\", recall_micro)\n",
    "print(\"Recall (Weighted):\", recall_weighted)\n",
    "print(\"F1 Score (Macro):\", f1_macro)\n",
    "print(\"F1 Score (Micro):\", f1_micro)\n",
    "print(\"F1 Score (Weighted):\", f1_weighted)\n"
   ]
  },
  {
   "cell_type": "code",
   "execution_count": null,
   "id": "2aa943d1",
   "metadata": {},
   "outputs": [],
   "source": []
  },
  {
   "cell_type": "markdown",
   "id": "dcc89d4b",
   "metadata": {},
   "source": [
    "### Data Test"
   ]
  },
  {
   "cell_type": "code",
   "execution_count": 28,
   "id": "d6945cb6",
   "metadata": {},
   "outputs": [
    {
     "data": {
      "text/html": [
       "<div>\n",
       "<style scoped>\n",
       "    .dataframe tbody tr th:only-of-type {\n",
       "        vertical-align: middle;\n",
       "    }\n",
       "\n",
       "    .dataframe tbody tr th {\n",
       "        vertical-align: top;\n",
       "    }\n",
       "\n",
       "    .dataframe thead th {\n",
       "        text-align: right;\n",
       "    }\n",
       "</style>\n",
       "<table border=\"1\" class=\"dataframe\">\n",
       "  <thead>\n",
       "    <tr style=\"text-align: right;\">\n",
       "      <th></th>\n",
       "      <th>tweet</th>\n",
       "      <th>label</th>\n",
       "    </tr>\n",
       "  </thead>\n",
       "  <tbody>\n",
       "    <tr>\n",
       "      <th>0</th>\n",
       "      <td>Aduh, pagi-pagi udah kena macet parah di jalan...</td>\n",
       "      <td>anger</td>\n",
       "    </tr>\n",
       "    <tr>\n",
       "      <th>1</th>\n",
       "      <td>Tadi pagi waktu gue jalan ke sekolah, tiba-tib...</td>\n",
       "      <td>fear</td>\n",
       "    </tr>\n",
       "    <tr>\n",
       "      <th>2</th>\n",
       "      <td>Hari ini gue dapet kabar kalau temen deket gue...</td>\n",
       "      <td>sadness</td>\n",
       "    </tr>\n",
       "    <tr>\n",
       "      <th>3</th>\n",
       "      <td>Pagi tadi gue bangun dan liat cuaca cerah bang...</td>\n",
       "      <td>happy</td>\n",
       "    </tr>\n",
       "    <tr>\n",
       "      <th>4</th>\n",
       "      <td>Baru aja dapet kabar kalau proyek yang gue ker...</td>\n",
       "      <td>sadness</td>\n",
       "    </tr>\n",
       "  </tbody>\n",
       "</table>\n",
       "</div>"
      ],
      "text/plain": [
       "                                               tweet    label\n",
       "0  Aduh, pagi-pagi udah kena macet parah di jalan...    anger\n",
       "1  Tadi pagi waktu gue jalan ke sekolah, tiba-tib...     fear\n",
       "2  Hari ini gue dapet kabar kalau temen deket gue...  sadness\n",
       "3  Pagi tadi gue bangun dan liat cuaca cerah bang...    happy\n",
       "4  Baru aja dapet kabar kalau proyek yang gue ker...  sadness"
      ]
     },
     "execution_count": 28,
     "metadata": {},
     "output_type": "execute_result"
    }
   ],
   "source": [
    "test = pd.read_excel(\"data_test.xlsx\")\n",
    "test.head()"
   ]
  },
  {
   "cell_type": "code",
   "execution_count": 29,
   "id": "8bd00315",
   "metadata": {},
   "outputs": [
    {
     "data": {
      "text/html": [
       "<div>\n",
       "<style scoped>\n",
       "    .dataframe tbody tr th:only-of-type {\n",
       "        vertical-align: middle;\n",
       "    }\n",
       "\n",
       "    .dataframe tbody tr th {\n",
       "        vertical-align: top;\n",
       "    }\n",
       "\n",
       "    .dataframe thead th {\n",
       "        text-align: right;\n",
       "    }\n",
       "</style>\n",
       "<table border=\"1\" class=\"dataframe\">\n",
       "  <thead>\n",
       "    <tr style=\"text-align: right;\">\n",
       "      <th></th>\n",
       "      <th>tweet</th>\n",
       "      <th>label</th>\n",
       "      <th>num_label</th>\n",
       "    </tr>\n",
       "  </thead>\n",
       "  <tbody>\n",
       "    <tr>\n",
       "      <th>0</th>\n",
       "      <td>Aduh, pagi-pagi udah kena macet parah di jalan...</td>\n",
       "      <td>anger</td>\n",
       "      <td>0</td>\n",
       "    </tr>\n",
       "    <tr>\n",
       "      <th>1</th>\n",
       "      <td>Tadi pagi waktu gue jalan ke sekolah, tiba-tib...</td>\n",
       "      <td>fear</td>\n",
       "      <td>1</td>\n",
       "    </tr>\n",
       "    <tr>\n",
       "      <th>2</th>\n",
       "      <td>Hari ini gue dapet kabar kalau temen deket gue...</td>\n",
       "      <td>sadness</td>\n",
       "      <td>3</td>\n",
       "    </tr>\n",
       "    <tr>\n",
       "      <th>3</th>\n",
       "      <td>Pagi tadi gue bangun dan liat cuaca cerah bang...</td>\n",
       "      <td>happy</td>\n",
       "      <td>2</td>\n",
       "    </tr>\n",
       "    <tr>\n",
       "      <th>4</th>\n",
       "      <td>Baru aja dapet kabar kalau proyek yang gue ker...</td>\n",
       "      <td>sadness</td>\n",
       "      <td>3</td>\n",
       "    </tr>\n",
       "  </tbody>\n",
       "</table>\n",
       "</div>"
      ],
      "text/plain": [
       "                                               tweet    label  num_label\n",
       "0  Aduh, pagi-pagi udah kena macet parah di jalan...    anger          0\n",
       "1  Tadi pagi waktu gue jalan ke sekolah, tiba-tib...     fear          1\n",
       "2  Hari ini gue dapet kabar kalau temen deket gue...  sadness          3\n",
       "3  Pagi tadi gue bangun dan liat cuaca cerah bang...    happy          2\n",
       "4  Baru aja dapet kabar kalau proyek yang gue ker...  sadness          3"
      ]
     },
     "execution_count": 29,
     "metadata": {},
     "output_type": "execute_result"
    }
   ],
   "source": [
    "test['num_label'] = test['label'].map({'anger':0, 'fear':1, 'happy':2, 'love':2, 'sadness':3})\n",
    "test.head()"
   ]
  },
  {
   "cell_type": "code",
   "execution_count": 30,
   "id": "3eb291f8",
   "metadata": {},
   "outputs": [
    {
     "data": {
      "text/html": [
       "<div>\n",
       "<style scoped>\n",
       "    .dataframe tbody tr th:only-of-type {\n",
       "        vertical-align: middle;\n",
       "    }\n",
       "\n",
       "    .dataframe tbody tr th {\n",
       "        vertical-align: top;\n",
       "    }\n",
       "\n",
       "    .dataframe thead th {\n",
       "        text-align: right;\n",
       "    }\n",
       "</style>\n",
       "<table border=\"1\" class=\"dataframe\">\n",
       "  <thead>\n",
       "    <tr style=\"text-align: right;\">\n",
       "      <th></th>\n",
       "      <th>tweet</th>\n",
       "      <th>label</th>\n",
       "      <th>num_label</th>\n",
       "      <th>filtering</th>\n",
       "    </tr>\n",
       "  </thead>\n",
       "  <tbody>\n",
       "    <tr>\n",
       "      <th>0</th>\n",
       "      <td>Aduh, pagi-pagi udah kena macet parah di jalan...</td>\n",
       "      <td>anger</td>\n",
       "      <td>0</td>\n",
       "      <td>aduh pagi pagi kena macet parah jalan pas kant...</td>\n",
       "    </tr>\n",
       "    <tr>\n",
       "      <th>1</th>\n",
       "      <td>Tadi pagi waktu gue jalan ke sekolah, tiba-tib...</td>\n",
       "      <td>fear</td>\n",
       "      <td>1</td>\n",
       "      <td>pagi jalan sekolah motor ngebut tabrak jantung...</td>\n",
       "    </tr>\n",
       "    <tr>\n",
       "      <th>2</th>\n",
       "      <td>Hari ini gue dapet kabar kalau temen deket gue...</td>\n",
       "      <td>sadness</td>\n",
       "      <td>3</td>\n",
       "      <td>teman pindah kota sedih sahabat pikir jarang k...</td>\n",
       "    </tr>\n",
       "    <tr>\n",
       "      <th>3</th>\n",
       "      <td>Pagi tadi gue bangun dan liat cuaca cerah bang...</td>\n",
       "      <td>happy</td>\n",
       "      <td>2</td>\n",
       "      <td>pagi bangun lihat cuaca cerah suasana hati lan...</td>\n",
       "    </tr>\n",
       "    <tr>\n",
       "      <th>4</th>\n",
       "      <td>Baru aja dapet kabar kalau proyek yang gue ker...</td>\n",
       "      <td>sadness</td>\n",
       "      <td>3</td>\n",
       "      <td>proyek kerjain bulan tolak klien sesal korban ...</td>\n",
       "    </tr>\n",
       "    <tr>\n",
       "      <th>...</th>\n",
       "      <td>...</td>\n",
       "      <td>...</td>\n",
       "      <td>...</td>\n",
       "      <td>...</td>\n",
       "    </tr>\n",
       "    <tr>\n",
       "      <th>130</th>\n",
       "      <td>8. Ketika seseorang menyebarkan gosip tidak be...</td>\n",
       "      <td>anger</td>\n",
       "      <td>0</td>\n",
       "      <td>sebar gosip diri amarahku langsung muncul kesa...</td>\n",
       "    </tr>\n",
       "    <tr>\n",
       "      <th>131</th>\n",
       "      <td>9. Dalam antrian panjang, seseorang dengan sen...</td>\n",
       "      <td>anger</td>\n",
       "      <td>0</td>\n",
       "      <td>antre sengaja selak peduli orang amarahku lang...</td>\n",
       "    </tr>\n",
       "    <tr>\n",
       "      <th>132</th>\n",
       "      <td>9. Dalam perjalanan pulang setelah berhasil me...</td>\n",
       "      <td>happy</td>\n",
       "      <td>2</td>\n",
       "      <td>jalan pulang hasil selesai proyek bahagia penu...</td>\n",
       "    </tr>\n",
       "    <tr>\n",
       "      <th>133</th>\n",
       "      <td>9. Dalam perjalanan pulang setelah perpisahan,...</td>\n",
       "      <td>sadness</td>\n",
       "      <td>3</td>\n",
       "      <td>jalan pulang pisah hati berat sedih limut piki...</td>\n",
       "    </tr>\n",
       "    <tr>\n",
       "      <th>134</th>\n",
       "      <td>9. Saat menonton film horor sendirian, setiap ...</td>\n",
       "      <td>fear</td>\n",
       "      <td>1</td>\n",
       "      <td>tonton film horor adegan takut buat merinding ...</td>\n",
       "    </tr>\n",
       "  </tbody>\n",
       "</table>\n",
       "<p>135 rows × 4 columns</p>\n",
       "</div>"
      ],
      "text/plain": [
       "                                                 tweet    label  num_label  \\\n",
       "0    Aduh, pagi-pagi udah kena macet parah di jalan...    anger          0   \n",
       "1    Tadi pagi waktu gue jalan ke sekolah, tiba-tib...     fear          1   \n",
       "2    Hari ini gue dapet kabar kalau temen deket gue...  sadness          3   \n",
       "3    Pagi tadi gue bangun dan liat cuaca cerah bang...    happy          2   \n",
       "4    Baru aja dapet kabar kalau proyek yang gue ker...  sadness          3   \n",
       "..                                                 ...      ...        ...   \n",
       "130  8. Ketika seseorang menyebarkan gosip tidak be...    anger          0   \n",
       "131  9. Dalam antrian panjang, seseorang dengan sen...    anger          0   \n",
       "132  9. Dalam perjalanan pulang setelah berhasil me...    happy          2   \n",
       "133  9. Dalam perjalanan pulang setelah perpisahan,...  sadness          3   \n",
       "134  9. Saat menonton film horor sendirian, setiap ...     fear          1   \n",
       "\n",
       "                                             filtering  \n",
       "0    aduh pagi pagi kena macet parah jalan pas kant...  \n",
       "1    pagi jalan sekolah motor ngebut tabrak jantung...  \n",
       "2    teman pindah kota sedih sahabat pikir jarang k...  \n",
       "3    pagi bangun lihat cuaca cerah suasana hati lan...  \n",
       "4    proyek kerjain bulan tolak klien sesal korban ...  \n",
       "..                                                 ...  \n",
       "130  sebar gosip diri amarahku langsung muncul kesa...  \n",
       "131  antre sengaja selak peduli orang amarahku lang...  \n",
       "132  jalan pulang hasil selesai proyek bahagia penu...  \n",
       "133  jalan pulang pisah hati berat sedih limut piki...  \n",
       "134  tonton film horor adegan takut buat merinding ...  \n",
       "\n",
       "[135 rows x 4 columns]"
      ]
     },
     "execution_count": 30,
     "metadata": {},
     "output_type": "execute_result"
    }
   ],
   "source": [
    "test = df_prep(test)\n",
    "test = test[test['filtering'] != \"\"].reset_index(drop=True)\n",
    "test"
   ]
  },
  {
   "cell_type": "code",
   "execution_count": 31,
   "id": "3a2b3cf5",
   "metadata": {},
   "outputs": [
    {
     "data": {
      "text/plain": [
       "array([[451,  54,  54, ...,   0,   0,   0],\n",
       "       [ 54,  17,  62, ...,   0,   0,   0],\n",
       "       [ 13, 348, 272, ...,   0,   0,   0],\n",
       "       ...,\n",
       "       [ 17,  99,  71, ...,   0,   0,   0],\n",
       "       [ 17,  99, 433, ...,   0,   0,   0],\n",
       "       [ 93, 164, 875, ...,   0,   0,   0]])"
      ]
     },
     "execution_count": 31,
     "metadata": {},
     "output_type": "execute_result"
    }
   ],
   "source": [
    "test_sequences = tokenizer.texts_to_sequences(test['filtering'])\n",
    "test_padded = pad_sequences(test_sequences, maxlen=max_length, padding=padding_type, truncating=trunc_type)\n",
    "test_padded"
   ]
  },
  {
   "cell_type": "code",
   "execution_count": 35,
   "id": "4f002a88",
   "metadata": {},
   "outputs": [
    {
     "data": {
      "text/plain": [
       "array([0, 1, 3, 2, 3, 0, 1, 2, 0, 1, 0, 1, 3, 2, 3, 0, 1, 3, 2, 0, 1, 3,\n",
       "       2, 0, 1, 3, 2, 3, 1, 0, 2, 0, 1, 2, 0, 3, 1, 3, 0, 0, 1, 2, 1, 0,\n",
       "       1, 3, 2, 0, 1, 3, 2, 1, 1, 0, 2, 1, 2, 3, 0, 0, 1, 2, 3, 0, 1, 2,\n",
       "       3, 2, 3, 1, 0, 1, 2, 3, 0, 0, 2, 1, 3, 3, 1, 2, 0, 1, 3, 0, 2, 2,\n",
       "       1, 3, 0, 0, 3, 2, 1, 1, 0, 2, 3, 2, 3, 1, 0, 0, 1, 2, 3, 0, 3, 2,\n",
       "       1, 1, 0, 3, 2, 2, 0, 3, 1, 3, 3, 0, 1, 2, 1, 3, 0, 1, 3, 2, 0, 0,\n",
       "       2, 3, 1], dtype=int64)"
      ]
     },
     "execution_count": 35,
     "metadata": {},
     "output_type": "execute_result"
    }
   ],
   "source": [
    "result_test = model.predict(test_padded)\n",
    "result_test\n",
    "# Get the index of the maximum probability for each row\n",
    "predicted_labels_test = np.argmax(result_test, axis=1)\n",
    "predicted_labels_test"
   ]
  },
  {
   "cell_type": "code",
   "execution_count": 37,
   "id": "bac37158",
   "metadata": {},
   "outputs": [
    {
     "data": {
      "image/png": "[encoded data removed]",
      "text/plain": [
       "<Figure size 640x480 with 2 Axes>"
      ]
     },
     "metadata": {},
     "output_type": "display_data"
    }
   ],
   "source": [
    "# Replace y_true and y_pred with your actual data\n",
    "y_true = np.array(test['num_label']) # True labels\n",
    "y_pred = predicted_labels_test  # Predicted labels\n",
    "\n",
    "# Create the confusion matrix\n",
    "label = [\"anger\", \"fear\", \"joy\", \"sadness\"]\n",
    "conf_matrix = confusion_matrix(y_true, y_pred)\n",
    "sns.heatmap(conf_matrix, cmap=\"Blues\", annot = True, fmt='d', xticklabels=label, yticklabels=label)\n",
    "plt.xlabel('Predicted labels')\n",
    "plt.ylabel('True labels')\n",
    "plt.title('Confusion Matrix')\n",
    "plt.show()\n"
   ]
  },
  {
   "cell_type": "code",
   "execution_count": 38,
   "id": "a6507ec4",
   "metadata": {},
   "outputs": [
    {
     "name": "stdout",
     "output_type": "stream",
     "text": [
      "Accuracy: 0.9333333333333333\n",
      "Precision (Macro): 0.9348124098124098\n",
      "Precision (Micro): 0.9333333333333333\n",
      "Precision (Weighted): 0.9343295387739831\n",
      "Recall (Macro): 0.9333778966131907\n",
      "Recall (Micro): 0.9333333333333333\n",
      "Recall (Weighted): 0.9333333333333333\n",
      "F1 Score (Macro): 0.9335629210314885\n",
      "F1 Score (Micro): 0.9333333333333333\n",
      "F1 Score (Weighted): 0.9333022760020921\n"
     ]
    }
   ],
   "source": [
    "from sklearn.metrics import accuracy_score, precision_score, recall_score, f1_score\n",
    "\n",
    "# Calculate accuracy\n",
    "accuracy = accuracy_score(y_true, y_pred)\n",
    "\n",
    "# Calculate precision (macro, micro, and weighted)\n",
    "precision_macro = precision_score(y_true, y_pred, average='macro')\n",
    "precision_micro = precision_score(y_true, y_pred, average='micro')\n",
    "precision_weighted = precision_score(y_true, y_pred, average='weighted')\n",
    "\n",
    "# Calculate recall (macro, micro, and weighted)\n",
    "recall_macro = recall_score(y_true, y_pred, average='macro')\n",
    "recall_micro = recall_score(y_true, y_pred, average='micro')\n",
    "recall_weighted = recall_score(y_true, y_pred, average='weighted')\n",
    "\n",
    "# Calculate F1 score (macro, micro, and weighted)\n",
    "f1_macro = f1_score(y_true, y_pred, average='macro')\n",
    "f1_micro = f1_score(y_true, y_pred, average='micro')\n",
    "f1_weighted = f1_score(y_true, y_pred, average='weighted')\n",
    "\n",
    "# Print all the metrics\n",
    "print(\"Accuracy:\", accuracy)\n",
    "print(\"Precision (Macro):\", precision_macro)\n",
    "print(\"Precision (Micro):\", precision_micro)\n",
    "print(\"Precision (Weighted):\", precision_weighted)\n",
    "print(\"Recall (Macro):\", recall_macro)\n",
    "print(\"Recall (Micro):\", recall_micro)\n",
    "print(\"Recall (Weighted):\", recall_weighted)\n",
    "print(\"F1 Score (Macro):\", f1_macro)\n",
    "print(\"F1 Score (Micro):\", f1_micro)\n",
    "print(\"F1 Score (Weighted):\", f1_weighted)\n"
   ]
  },
  {
   "cell_type": "markdown",
   "id": "1f3ac210",
   "metadata": {},
   "source": [
    "#### Test"
   ]
  },
  {
   "cell_type": "code",
   "execution_count": 39,
   "id": "34a46c96",
   "metadata": {},
   "outputs": [],
   "source": [
    "def prediction(test):\n",
    "    label = [\"anger\", \"fear\", \"joy\", \"sadness\"]\n",
    "    result = model.predict(test)\n",
    "    index = np.argmax(result)\n",
    "    hasil = label[index]\n",
    "    return result[0], hasil\n",
    "\n",
    "def prep_test(reviews):\n",
    "    review = lowercase(reviews)\n",
    "    review = remove_url(review)\n",
    "    review = remove_mentions(review)\n",
    "    review = remove_square_brackets(review)\n",
    "    review = remove_irrelevant(review)\n",
    "    review = remove_space(review)\n",
    "    review = remove_emoji(review)\n",
    "    review = repeat_char(review)\n",
    "    review = alay(review)\n",
    "    review = remove_stopwords(review)\n",
    "    review = stemmed(review)\n",
    "    text = [review]\n",
    "    inference_sequences = tokenizer.texts_to_sequences(text)\n",
    "    inference_padded = pad_sequences(inference_sequences, padding=padding_type, maxlen=max_length)\n",
    "    \n",
    "    results = prediction(inference_padded)\n",
    "    print(reviews)\n",
    "    print(\"\")\n",
    "    print(f\"Probability Anger: {results[0][0]:.2f}\")\n",
    "    print(f\"Probability Fear: {results[0][1]:.2f}\")\n",
    "    print(f\"Probability Sadness: {results[0][3]:.2f}\")\n",
    "    print(f\"Probability Joy: {results[0][2]:.2f}\")\n",
    "    print(\"\")\n",
    "    print(f\"Mood Anda saat ini adalah: {results[1]}\")\n",
    "    return results"
   ]
  },
  {
   "cell_type": "code",
   "execution_count": 40,
   "id": "833d834f",
   "metadata": {},
   "outputs": [
    {
     "name": "stdout",
     "output_type": "stream",
     "text": [
      "Aaaaarrgghhh ga kuat gue tahan lagi cokk. Laper sih laper, tapi perasaan kayak ada yang nyangkut di tenggorokan. Scroll medsos isinya pamer bahagia mulu. Bikin iri aja deh. Pengin cerita ke temen tapi takut dibilang drama queen.  Mereka lagi pada sibuk sama kesenangannya sendiri.Kadang mikir, apa gue salah ya? Kok hidup gue gini-gini aja.  Dulu mimpi setinggi langit, sekarang nyampe langit-langitnya tetangga sebelah aja engga.  Nilai jelek, dimarahin orang tua.  Belum lagi gebetan kayanya ngga ngeliatin gue sama sekali.  Duh, kayaknya gue butuh miracle deh biar bisa keluar dari zona galau ini.  Tapi percintaan kayak di drama korea itu cuma khayalan doang kali ya. Mending gue tidur aja deh.  Siapa tau besok bangun suasana hati udah lebih baikan.  Tapi ntar kalo mimpi buruk gimana?  Haduh, serba salah emang.  Yaudahlah, pasrah aja deh sama keadaan.  Mungkin ini emang lagi diuji kesabarannya.  Siapa tau nanti ada hikmahnya  nangis sambil elap ingus\n",
      "\n",
      "Probability Anger: 0.56\n",
      "Probability Fear: 0.06\n",
      "Probability Sadness: 0.35\n",
      "Probability Joy: 0.03\n",
      "\n",
      "Mood Anda saat ini adalah: anger\n"
     ]
    }
   ],
   "source": [
    "text = \"Aaaaarrgghhh ga kuat gue tahan lagi cokk. Laper sih laper, tapi perasaan kayak ada yang nyangkut di tenggorokan. Scroll medsos isinya pamer bahagia mulu. Bikin iri aja deh. Pengin cerita ke temen tapi takut dibilang drama queen.  Mereka lagi pada sibuk sama kesenangannya sendiri.Kadang mikir, apa gue salah ya? Kok hidup gue gini-gini aja.  Dulu mimpi setinggi langit, sekarang nyampe langit-langitnya tetangga sebelah aja engga.  Nilai jelek, dimarahin orang tua.  Belum lagi gebetan kayanya ngga ngeliatin gue sama sekali.  Duh, kayaknya gue butuh miracle deh biar bisa keluar dari zona galau ini.  Tapi percintaan kayak di drama korea itu cuma khayalan doang kali ya. Mending gue tidur aja deh.  Siapa tau besok bangun suasana hati udah lebih baikan.  Tapi ntar kalo mimpi buruk gimana?  Haduh, serba salah emang.  Yaudahlah, pasrah aja deh sama keadaan.  Mungkin ini emang lagi diuji kesabarannya.  Siapa tau nanti ada hikmahnya  nangis sambil elap ingus\"\n",
    "hasil = prep_test(text)"
   ]
  },
  {
   "cell_type": "code",
   "execution_count": 41,
   "id": "35852e24",
   "metadata": {},
   "outputs": [
    {
     "name": "stdout",
     "output_type": "stream",
     "text": [
      "Aduh, ga nyangka deh ternyata ada yang sayang sama gue. Rasanya kayak mimpi! Selama ini gue selalu ngerasa sendirian, ga ada yang peduli. Tapi sekarang, ada dia yang selalu ada buat gue. Dia selalu ngehubungin gue setiap hari, nanyain gimana kabar gue, ngajak gue jalan-jalan, dan selalu ngasih perhatian yang bikin gue bahagia. Gue ga tau harus gimana lagi. Gue ga mau ngecewain dia, tapi gue juga ga mau ngasih harapan yang berlebihan. Gue bingung mau ngambil sikap kayak apa. Yang jelas, gue seneng banget bisa ngerasain dicintai lagi. Gue ga mau ngelepasin dia. Gue pengen selalu bareng dia dan bahagia sama dia. Tapi gue takut kalo gue terlalu ngedekatin dia, dia bakalan ngerasa terbebani. Gue ga mau dia ngerasa terpaksa buat sayang sama gue. Gue harap dia beneran sayang sama gue, bukan cuma karena kasihan atau ngerasa kesepian. Gue pengen cinta yang tulus dan abadi. Gue tau gue ga sempurna. Gue banyak kekurangan. Tapi gue janji bakal berusaha jadi yang terbaik buat dia. Gue bakal ngasih dia cinta yang tulus dan kasih sayang yang tiada tara. Gue harap dia mau ngertiin gue dan ngasih gue kesempatan buat ngbuktiin cinta gue. Gue ga mau ngelepasin dia. Gue pengen selalu bareng dia dan bahagia sama dia.\n",
      "\n",
      "Probability Anger: 0.04\n",
      "Probability Fear: 0.11\n",
      "Probability Sadness: 0.47\n",
      "Probability Joy: 0.38\n",
      "\n",
      "Mood Anda saat ini adalah: sadness\n"
     ]
    }
   ],
   "source": [
    "text = \"Aduh, ga nyangka deh ternyata ada yang sayang sama gue. Rasanya kayak mimpi! Selama ini gue selalu ngerasa sendirian, ga ada yang peduli. Tapi sekarang, ada dia yang selalu ada buat gue. Dia selalu ngehubungin gue setiap hari, nanyain gimana kabar gue, ngajak gue jalan-jalan, dan selalu ngasih perhatian yang bikin gue bahagia. Gue ga tau harus gimana lagi. Gue ga mau ngecewain dia, tapi gue juga ga mau ngasih harapan yang berlebihan. Gue bingung mau ngambil sikap kayak apa. Yang jelas, gue seneng banget bisa ngerasain dicintai lagi. Gue ga mau ngelepasin dia. Gue pengen selalu bareng dia dan bahagia sama dia. Tapi gue takut kalo gue terlalu ngedekatin dia, dia bakalan ngerasa terbebani. Gue ga mau dia ngerasa terpaksa buat sayang sama gue. Gue harap dia beneran sayang sama gue, bukan cuma karena kasihan atau ngerasa kesepian. Gue pengen cinta yang tulus dan abadi. Gue tau gue ga sempurna. Gue banyak kekurangan. Tapi gue janji bakal berusaha jadi yang terbaik buat dia. Gue bakal ngasih dia cinta yang tulus dan kasih sayang yang tiada tara. Gue harap dia mau ngertiin gue dan ngasih gue kesempatan buat ngbuktiin cinta gue. Gue ga mau ngelepasin dia. Gue pengen selalu bareng dia dan bahagia sama dia.\"\n",
    "hasil = prep_test(text)"
   ]
  },
  {
   "cell_type": "code",
   "execution_count": 42,
   "id": "6431050a",
   "metadata": {},
   "outputs": [
    {
     "name": "stdout",
     "output_type": "stream",
     "text": [
      "Woyy bestie, gw mau curhat nih. Gw lagi apes bgt guys. Semester ini gw harus ngulang mata kuliah Kalkulus Dasar. Sumpah deh gw gak nyangka bakal ngulang matkul ini. Gw udah belajar mati-matian loh, begadang sampe mata panda, ngerjain semua tugas, tapi tetep aja nilai gw gak sampe KKM. Kesel bgt sih sebenernya. Gw udah ngerasa berusaha maksimal, tapi hasilnya gak sesuai ekspektasi. Malah bikin mental gw down bgt. ☹️☹️☹️ Apalagi ngeliat temen-temen yang lain udah pada lanjut ke materi selanjutnya, sementara gw masih harus terjebak di materi yang sama. Kayak anak bawang yang gak naik kelas aja rasanya. Belum lagi nanti gw harus ngulang bareng anak-anak angkatan bawah. Malu bgt sih rasanya. Gw jadi kayak gak pinter dan gak mampu gitu. Tapi mau gimana lagi, ini udah kenyataan yang harus gw hadapi. Gw gak boleh nyerah gitu aja. Gw harus semangat lagi dan belajar lebih giat biar di semester depan gak ngulang lagi. Bestie, doain gw yaaa biar gw bisa sukses ngulang Kalkulus Dasar dan gak ngerasa down lagi. Semangat bestie!\n",
      "\n",
      "Probability Anger: 0.77\n",
      "Probability Fear: 0.01\n",
      "Probability Sadness: 0.04\n",
      "Probability Joy: 0.18\n",
      "\n",
      "Mood Anda saat ini adalah: anger\n"
     ]
    }
   ],
   "source": [
    "text = \"Woyy bestie, gw mau curhat nih. Gw lagi apes bgt guys. Semester ini gw harus ngulang mata kuliah Kalkulus Dasar. Sumpah deh gw gak nyangka bakal ngulang matkul ini. Gw udah belajar mati-matian loh, begadang sampe mata panda, ngerjain semua tugas, tapi tetep aja nilai gw gak sampe KKM. Kesel bgt sih sebenernya. Gw udah ngerasa berusaha maksimal, tapi hasilnya gak sesuai ekspektasi. Malah bikin mental gw down bgt. ☹️☹️☹️ Apalagi ngeliat temen-temen yang lain udah pada lanjut ke materi selanjutnya, sementara gw masih harus terjebak di materi yang sama. Kayak anak bawang yang gak naik kelas aja rasanya. Belum lagi nanti gw harus ngulang bareng anak-anak angkatan bawah. Malu bgt sih rasanya. Gw jadi kayak gak pinter dan gak mampu gitu. Tapi mau gimana lagi, ini udah kenyataan yang harus gw hadapi. Gw gak boleh nyerah gitu aja. Gw harus semangat lagi dan belajar lebih giat biar di semester depan gak ngulang lagi. Bestie, doain gw yaaa biar gw bisa sukses ngulang Kalkulus Dasar dan gak ngerasa down lagi. Semangat bestie!\"\n",
    "hasil = prep_test(text)"
   ]
  },
  {
   "cell_type": "code",
   "execution_count": null,
   "id": "bd3361f7",
   "metadata": {},
   "outputs": [],
   "source": []
  },
  {
   "cell_type": "code",
   "execution_count": null,
   "id": "e113f86b",
   "metadata": {},
   "outputs": [],
   "source": [
    "train.to_csv(\"dataenakkk.csv\", index=False)"
   ]
  },
  {
   "cell_type": "code",
   "execution_count": 43,
   "id": "cfebcbea",
   "metadata": {},
   "outputs": [],
   "source": [
    "from tensorflow.keras.preprocessing.text import Tokenizer\n",
    "import json"
   ]
  },
  {
   "cell_type": "code",
   "execution_count": 44,
   "id": "1b060bd0",
   "metadata": {},
   "outputs": [],
   "source": [
    "# Get the word index from the tokenizer\n",
    "word_index = tokenizer.word_index\n",
    "\n",
    "# Save word index to a JSON file\n",
    "with open('word_index12_fix.json', 'w') as f:\n",
    "    json.dump(word_index, f)"
   ]
  },
  {
   "cell_type": "code",
   "execution_count": null,
   "id": "fa26f611",
   "metadata": {},
   "outputs": [],
   "source": [
    "train.to_csv(\"data_fix_fixed.csv\", index=False)"
   ]
  },
  {
   "cell_type": "code",
   "execution_count": 50,
   "id": "2795f810",
   "metadata": {},
   "outputs": [],
   "source": [
    "model.save('my_keras_model_fix.h5') #nama file"
   ]
  },
  {
   "cell_type": "code",
   "execution_count": 51,
   "id": "5908eab0",
   "metadata": {},
   "outputs": [],
   "source": [
    "!tensorflowjs_converter --input_format keras my_keras_model_fix.h5 tfjs_model"
   ]
  },
  {
   "cell_type": "code",
   "execution_count": 52,
   "id": "2bb8be46",
   "metadata": {},
   "outputs": [
    {
     "data": {
      "text/plain": [
       "['group1-shard1of1.bin', 'model.json']"
      ]
     },
     "execution_count": 52,
     "metadata": {},
     "output_type": "execute_result"
    }
   ],
   "source": [
    "import os\n",
    "os.listdir('tfjs_model')\n",
    "#nama file"
   ]
  },
  {
   "cell_type": "code",
   "execution_count": null,
   "id": "d8f14c1d",
   "metadata": {},
   "outputs": [],
   "source": []
  }
 ],
 "metadata": {
  "kernelspec": {
   "display_name": "Python 3 (ipykernel)",
   "language": "python",
   "name": "python3"
  },
  "language_info": {
   "codemirror_mode": {
    "name": "ipython",
    "version": 3
   },
   "file_extension": ".py",
   "mimetype": "text/x-python",
   "name": "python",
   "nbconvert_exporter": "python",
   "pygments_lexer": "ipython3",
   "version": "3.7.1"
  }
 },
 "nbformat": 4,
 "nbformat_minor": 5
}
